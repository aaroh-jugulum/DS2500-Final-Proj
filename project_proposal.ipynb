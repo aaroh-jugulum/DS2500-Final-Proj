{
 "cells": [
  {
   "attachments": {},
   "cell_type": "markdown",
   "metadata": {},
   "source": [
    "## Description of our Real World Problem:\n",
    "As of 2022 the US Census estimates that 11.5 millions people in the United States are either deaf or hard of hearing. This raises issues for these groups of people as the means of communication with them is limited to just sign language, a skill that most people do not have, infact less than 500,000 people in the country use sign language as a means of communitcation with the deaf.  "
   ]
  },
  {
   "attachments": {},
   "cell_type": "markdown",
   "metadata": {},
   "source": [
    "# Dataset:\n",
    "## Links:\n",
    "- [RGB with black background](https://www.kaggle.com/datasets/ayuraj/asl-dataset)\n",
    "- [RGB with slighly noisy white background](https://www.kaggle.com/datasets/kapillondhe/american-sign-language)\n",
    "- [Kaggle](https://www.kaggle.com/datasets/prathumarikeri/american-sign-language-09az)\n",
    "- [Kaggle](https://www.kaggle.com/datasets/shreyashgupta88/american-sign-language-thresholded)\n",
    "## Description of the Datasets:\n"
   ]
  },
  {
   "attachments": {},
   "cell_type": "markdown",
   "metadata": {},
   "source": [
    "hello new cell"
   ]
  }
 ],
 "metadata": {
  "kernelspec": {
   "display_name": "MachineLearning",
   "language": "python",
   "name": "python3"
  },
  "language_info": {
   "name": "python",
   "version": "3.9.15"
  },
  "orig_nbformat": 4,
  "vscode": {
   "interpreter": {
    "hash": "8bdd5c009f62a4391c84c154fdddba07798cd1d5d25ef5e0b71e3ea80b2a0ba0"
   }
  }
 },
 "nbformat": 4,
 "nbformat_minor": 2
}
